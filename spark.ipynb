{
  "cells": [
    {
      "cell_type": "markdown",
      "metadata": {
        "id": "view-in-github",
        "colab_type": "text"
      },
      "source": [
        "<a href=\"https://colab.research.google.com/github/vidyasagar1793/ty/blob/main/spark.ipynb\" target=\"_parent\"><img src=\"https://colab.research.google.com/assets/colab-badge.svg\" alt=\"Open In Colab\"/></a>"
      ]
    },
    {
      "cell_type": "code",
      "execution_count": null,
      "metadata": {
        "colab": {
          "base_uri": "https://localhost:8080/"
        },
        "id": "yBPGcHhH8SOt",
        "outputId": "757e55fb-1232-4c0d-8cdc-84e359b2218e"
      },
      "outputs": [
        {
          "output_type": "stream",
          "name": "stdout",
          "text": [
            "Collecting pyspark\n",
            "  Downloading pyspark-3.4.1.tar.gz (310.8 MB)\n",
            "\u001b[2K     \u001b[90m━━━━━━━━━━━━━━━━━━━━━━━━━━━━━━━━━━━━━━━\u001b[0m \u001b[32m310.8/310.8 MB\u001b[0m \u001b[31m3.1 MB/s\u001b[0m eta \u001b[36m0:00:00\u001b[0m\n",
            "\u001b[?25h  Preparing metadata (setup.py) ... \u001b[?25l\u001b[?25hdone\n",
            "Requirement already satisfied: py4j==0.10.9.7 in /usr/local/lib/python3.10/dist-packages (from pyspark) (0.10.9.7)\n",
            "Building wheels for collected packages: pyspark\n",
            "  Building wheel for pyspark (setup.py) ... \u001b[?25l\u001b[?25hdone\n",
            "  Created wheel for pyspark: filename=pyspark-3.4.1-py2.py3-none-any.whl size=311285398 sha256=0b456afa996ac2c85d295abeb6896c5bb7a59c7c7311f1dd82c642e7944b1633\n",
            "  Stored in directory: /root/.cache/pip/wheels/0d/77/a3/ff2f74cc9ab41f8f594dabf0579c2a7c6de920d584206e0834\n",
            "Successfully built pyspark\n",
            "Installing collected packages: pyspark\n",
            "Successfully installed pyspark-3.4.1\n"
          ]
        }
      ],
      "source": [
        "pip install pyspark"
      ]
    },
    {
      "cell_type": "code",
      "execution_count": null,
      "metadata": {
        "id": "TMxcn_H28IyL"
      },
      "outputs": [],
      "source": [
        "import pyspark\n",
        "spark = pyspark.sql.SparkSession.builder.appName(\"clipper-pyspark\").getOrCreate()\n",
        "\n",
        "sc = spark.sparkContext"
      ]
    },
    {
      "cell_type": "code",
      "execution_count": null,
      "metadata": {
        "id": "Ij3xNbhQ8n0U"
      },
      "outputs": [],
      "source": [
        "import seaborn as sns\n",
        "import matplotlib.pyplot as plt\n",
        "import pandas as pd\n",
        "import numpy as np\n",
        "%matplotlib inline\n",
        "from google.colab import files\n",
        "np.random.seed(60)"
      ]
    },
    {
      "cell_type": "code",
      "execution_count": null,
      "metadata": {
        "colab": {
          "base_uri": "https://localhost:8080/",
          "height": 676
        },
        "id": "5ezbAG9C8uAs",
        "outputId": "06c3b37b-b9e7-459f-d193-a168053e19c8"
      },
      "outputs": [
        {
          "output_type": "execute_result",
          "data": {
            "text/plain": [
              "    Id                Dates DayOfWeek  PdDistrict                    Address  \\\n",
              "0    0  2015-05-10 23:59:00    Sunday     BAYVIEW    2000 Block of THOMAS AV   \n",
              "1    1  2015-05-10 23:51:00    Sunday     BAYVIEW         3RD ST / REVERE AV   \n",
              "2    2  2015-05-10 23:50:00    Sunday    NORTHERN     2000 Block of GOUGH ST   \n",
              "3    3  2015-05-10 23:45:00    Sunday   INGLESIDE   4700 Block of MISSION ST   \n",
              "4    4  2015-05-10 23:45:00    Sunday   INGLESIDE   4700 Block of MISSION ST   \n",
              "5    5  2015-05-10 23:40:00    Sunday     TARAVAL      BROAD ST / CAPITOL AV   \n",
              "6    6  2015-05-10 23:30:00    Sunday   INGLESIDE    100 Block of CHENERY ST   \n",
              "7    7  2015-05-10 23:30:00    Sunday   INGLESIDE      200 Block of BANKS ST   \n",
              "8    8  2015-05-10 23:10:00    Sunday     MISSION      2900 Block of 16TH ST   \n",
              "9    9  2015-05-10 23:10:00    Sunday     CENTRAL       TAYLOR ST / GREEN ST   \n",
              "10  10  2015-05-10 23:00:00    Sunday   INGLESIDE    100 Block of PERALTA AV   \n",
              "11  11  2015-05-10 23:00:00    Sunday     MISSION    600 Block of FLORIDA ST   \n",
              "12  12  2015-05-10 23:00:00    Sunday     MISSION    600 Block of FLORIDA ST   \n",
              "13  13  2015-05-10 23:00:00    Sunday     CENTRAL    200 Block of VALLEJO ST   \n",
              "14  14  2015-05-10 23:00:00    Sunday     CENTRAL     JEFFERSON ST / HYDE ST   \n",
              "15  15  2015-05-10 22:50:00    Sunday  TENDERLOIN   GOLDEN GATE AV / HYDE ST   \n",
              "16  16  2015-05-10 22:36:00    Sunday     TARAVAL     1200 Block of OCEAN AV   \n",
              "17  17  2015-05-10 22:00:00    Sunday   INGLESIDE    1200 Block of GIRARD ST   \n",
              "18  18  2015-05-10 22:00:00    Sunday    NORTHERN  1900 Block of FILLMORE ST   \n",
              "19  19  2015-05-10 22:00:00    Sunday    NORTHERN         GREEN ST / POLK ST   \n",
              "\n",
              "             X          Y  \n",
              "0  -122.399588  37.735051  \n",
              "1  -122.391523  37.732432  \n",
              "2  -122.426002  37.792212  \n",
              "3  -122.437394  37.721412  \n",
              "4  -122.437394  37.721412  \n",
              "5  -122.459024  37.713172  \n",
              "6  -122.425616  37.739351  \n",
              "7  -122.412652  37.739750  \n",
              "8  -122.418700  37.765165  \n",
              "9  -122.413935  37.798886  \n",
              "10 -122.408608  37.746787  \n",
              "11 -122.411094  37.761048  \n",
              "12 -122.411094  37.761048  \n",
              "13 -122.402131  37.799364  \n",
              "14 -122.420747  37.807588  \n",
              "15 -122.415508  37.781654  \n",
              "16 -122.455679  37.723702  \n",
              "17 -122.400298  37.717181  \n",
              "18 -122.433669  37.787709  \n",
              "19 -122.422150  37.797824  "
            ],
            "text/html": [
              "\n",
              "  <div id=\"df-c2089f68-dcf3-4944-aa6d-ac0738b3b234\">\n",
              "    <div class=\"colab-df-container\">\n",
              "      <div>\n",
              "<style scoped>\n",
              "    .dataframe tbody tr th:only-of-type {\n",
              "        vertical-align: middle;\n",
              "    }\n",
              "\n",
              "    .dataframe tbody tr th {\n",
              "        vertical-align: top;\n",
              "    }\n",
              "\n",
              "    .dataframe thead th {\n",
              "        text-align: right;\n",
              "    }\n",
              "</style>\n",
              "<table border=\"1\" class=\"dataframe\">\n",
              "  <thead>\n",
              "    <tr style=\"text-align: right;\">\n",
              "      <th></th>\n",
              "      <th>Id</th>\n",
              "      <th>Dates</th>\n",
              "      <th>DayOfWeek</th>\n",
              "      <th>PdDistrict</th>\n",
              "      <th>Address</th>\n",
              "      <th>X</th>\n",
              "      <th>Y</th>\n",
              "    </tr>\n",
              "  </thead>\n",
              "  <tbody>\n",
              "    <tr>\n",
              "      <th>0</th>\n",
              "      <td>0</td>\n",
              "      <td>2015-05-10 23:59:00</td>\n",
              "      <td>Sunday</td>\n",
              "      <td>BAYVIEW</td>\n",
              "      <td>2000 Block of THOMAS AV</td>\n",
              "      <td>-122.399588</td>\n",
              "      <td>37.735051</td>\n",
              "    </tr>\n",
              "    <tr>\n",
              "      <th>1</th>\n",
              "      <td>1</td>\n",
              "      <td>2015-05-10 23:51:00</td>\n",
              "      <td>Sunday</td>\n",
              "      <td>BAYVIEW</td>\n",
              "      <td>3RD ST / REVERE AV</td>\n",
              "      <td>-122.391523</td>\n",
              "      <td>37.732432</td>\n",
              "    </tr>\n",
              "    <tr>\n",
              "      <th>2</th>\n",
              "      <td>2</td>\n",
              "      <td>2015-05-10 23:50:00</td>\n",
              "      <td>Sunday</td>\n",
              "      <td>NORTHERN</td>\n",
              "      <td>2000 Block of GOUGH ST</td>\n",
              "      <td>-122.426002</td>\n",
              "      <td>37.792212</td>\n",
              "    </tr>\n",
              "    <tr>\n",
              "      <th>3</th>\n",
              "      <td>3</td>\n",
              "      <td>2015-05-10 23:45:00</td>\n",
              "      <td>Sunday</td>\n",
              "      <td>INGLESIDE</td>\n",
              "      <td>4700 Block of MISSION ST</td>\n",
              "      <td>-122.437394</td>\n",
              "      <td>37.721412</td>\n",
              "    </tr>\n",
              "    <tr>\n",
              "      <th>4</th>\n",
              "      <td>4</td>\n",
              "      <td>2015-05-10 23:45:00</td>\n",
              "      <td>Sunday</td>\n",
              "      <td>INGLESIDE</td>\n",
              "      <td>4700 Block of MISSION ST</td>\n",
              "      <td>-122.437394</td>\n",
              "      <td>37.721412</td>\n",
              "    </tr>\n",
              "    <tr>\n",
              "      <th>5</th>\n",
              "      <td>5</td>\n",
              "      <td>2015-05-10 23:40:00</td>\n",
              "      <td>Sunday</td>\n",
              "      <td>TARAVAL</td>\n",
              "      <td>BROAD ST / CAPITOL AV</td>\n",
              "      <td>-122.459024</td>\n",
              "      <td>37.713172</td>\n",
              "    </tr>\n",
              "    <tr>\n",
              "      <th>6</th>\n",
              "      <td>6</td>\n",
              "      <td>2015-05-10 23:30:00</td>\n",
              "      <td>Sunday</td>\n",
              "      <td>INGLESIDE</td>\n",
              "      <td>100 Block of CHENERY ST</td>\n",
              "      <td>-122.425616</td>\n",
              "      <td>37.739351</td>\n",
              "    </tr>\n",
              "    <tr>\n",
              "      <th>7</th>\n",
              "      <td>7</td>\n",
              "      <td>2015-05-10 23:30:00</td>\n",
              "      <td>Sunday</td>\n",
              "      <td>INGLESIDE</td>\n",
              "      <td>200 Block of BANKS ST</td>\n",
              "      <td>-122.412652</td>\n",
              "      <td>37.739750</td>\n",
              "    </tr>\n",
              "    <tr>\n",
              "      <th>8</th>\n",
              "      <td>8</td>\n",
              "      <td>2015-05-10 23:10:00</td>\n",
              "      <td>Sunday</td>\n",
              "      <td>MISSION</td>\n",
              "      <td>2900 Block of 16TH ST</td>\n",
              "      <td>-122.418700</td>\n",
              "      <td>37.765165</td>\n",
              "    </tr>\n",
              "    <tr>\n",
              "      <th>9</th>\n",
              "      <td>9</td>\n",
              "      <td>2015-05-10 23:10:00</td>\n",
              "      <td>Sunday</td>\n",
              "      <td>CENTRAL</td>\n",
              "      <td>TAYLOR ST / GREEN ST</td>\n",
              "      <td>-122.413935</td>\n",
              "      <td>37.798886</td>\n",
              "    </tr>\n",
              "    <tr>\n",
              "      <th>10</th>\n",
              "      <td>10</td>\n",
              "      <td>2015-05-10 23:00:00</td>\n",
              "      <td>Sunday</td>\n",
              "      <td>INGLESIDE</td>\n",
              "      <td>100 Block of PERALTA AV</td>\n",
              "      <td>-122.408608</td>\n",
              "      <td>37.746787</td>\n",
              "    </tr>\n",
              "    <tr>\n",
              "      <th>11</th>\n",
              "      <td>11</td>\n",
              "      <td>2015-05-10 23:00:00</td>\n",
              "      <td>Sunday</td>\n",
              "      <td>MISSION</td>\n",
              "      <td>600 Block of FLORIDA ST</td>\n",
              "      <td>-122.411094</td>\n",
              "      <td>37.761048</td>\n",
              "    </tr>\n",
              "    <tr>\n",
              "      <th>12</th>\n",
              "      <td>12</td>\n",
              "      <td>2015-05-10 23:00:00</td>\n",
              "      <td>Sunday</td>\n",
              "      <td>MISSION</td>\n",
              "      <td>600 Block of FLORIDA ST</td>\n",
              "      <td>-122.411094</td>\n",
              "      <td>37.761048</td>\n",
              "    </tr>\n",
              "    <tr>\n",
              "      <th>13</th>\n",
              "      <td>13</td>\n",
              "      <td>2015-05-10 23:00:00</td>\n",
              "      <td>Sunday</td>\n",
              "      <td>CENTRAL</td>\n",
              "      <td>200 Block of VALLEJO ST</td>\n",
              "      <td>-122.402131</td>\n",
              "      <td>37.799364</td>\n",
              "    </tr>\n",
              "    <tr>\n",
              "      <th>14</th>\n",
              "      <td>14</td>\n",
              "      <td>2015-05-10 23:00:00</td>\n",
              "      <td>Sunday</td>\n",
              "      <td>CENTRAL</td>\n",
              "      <td>JEFFERSON ST / HYDE ST</td>\n",
              "      <td>-122.420747</td>\n",
              "      <td>37.807588</td>\n",
              "    </tr>\n",
              "    <tr>\n",
              "      <th>15</th>\n",
              "      <td>15</td>\n",
              "      <td>2015-05-10 22:50:00</td>\n",
              "      <td>Sunday</td>\n",
              "      <td>TENDERLOIN</td>\n",
              "      <td>GOLDEN GATE AV / HYDE ST</td>\n",
              "      <td>-122.415508</td>\n",
              "      <td>37.781654</td>\n",
              "    </tr>\n",
              "    <tr>\n",
              "      <th>16</th>\n",
              "      <td>16</td>\n",
              "      <td>2015-05-10 22:36:00</td>\n",
              "      <td>Sunday</td>\n",
              "      <td>TARAVAL</td>\n",
              "      <td>1200 Block of OCEAN AV</td>\n",
              "      <td>-122.455679</td>\n",
              "      <td>37.723702</td>\n",
              "    </tr>\n",
              "    <tr>\n",
              "      <th>17</th>\n",
              "      <td>17</td>\n",
              "      <td>2015-05-10 22:00:00</td>\n",
              "      <td>Sunday</td>\n",
              "      <td>INGLESIDE</td>\n",
              "      <td>1200 Block of GIRARD ST</td>\n",
              "      <td>-122.400298</td>\n",
              "      <td>37.717181</td>\n",
              "    </tr>\n",
              "    <tr>\n",
              "      <th>18</th>\n",
              "      <td>18</td>\n",
              "      <td>2015-05-10 22:00:00</td>\n",
              "      <td>Sunday</td>\n",
              "      <td>NORTHERN</td>\n",
              "      <td>1900 Block of FILLMORE ST</td>\n",
              "      <td>-122.433669</td>\n",
              "      <td>37.787709</td>\n",
              "    </tr>\n",
              "    <tr>\n",
              "      <th>19</th>\n",
              "      <td>19</td>\n",
              "      <td>2015-05-10 22:00:00</td>\n",
              "      <td>Sunday</td>\n",
              "      <td>NORTHERN</td>\n",
              "      <td>GREEN ST / POLK ST</td>\n",
              "      <td>-122.422150</td>\n",
              "      <td>37.797824</td>\n",
              "    </tr>\n",
              "  </tbody>\n",
              "</table>\n",
              "</div>\n",
              "      <button class=\"colab-df-convert\" onclick=\"convertToInteractive('df-c2089f68-dcf3-4944-aa6d-ac0738b3b234')\"\n",
              "              title=\"Convert this dataframe to an interactive table.\"\n",
              "              style=\"display:none;\">\n",
              "        \n",
              "  <svg xmlns=\"http://www.w3.org/2000/svg\" height=\"24px\"viewBox=\"0 0 24 24\"\n",
              "       width=\"24px\">\n",
              "    <path d=\"M0 0h24v24H0V0z\" fill=\"none\"/>\n",
              "    <path d=\"M18.56 5.44l.94 2.06.94-2.06 2.06-.94-2.06-.94-.94-2.06-.94 2.06-2.06.94zm-11 1L8.5 8.5l.94-2.06 2.06-.94-2.06-.94L8.5 2.5l-.94 2.06-2.06.94zm10 10l.94 2.06.94-2.06 2.06-.94-2.06-.94-.94-2.06-.94 2.06-2.06.94z\"/><path d=\"M17.41 7.96l-1.37-1.37c-.4-.4-.92-.59-1.43-.59-.52 0-1.04.2-1.43.59L10.3 9.45l-7.72 7.72c-.78.78-.78 2.05 0 2.83L4 21.41c.39.39.9.59 1.41.59.51 0 1.02-.2 1.41-.59l7.78-7.78 2.81-2.81c.8-.78.8-2.07 0-2.86zM5.41 20L4 18.59l7.72-7.72 1.47 1.35L5.41 20z\"/>\n",
              "  </svg>\n",
              "      </button>\n",
              "      \n",
              "  <style>\n",
              "    .colab-df-container {\n",
              "      display:flex;\n",
              "      flex-wrap:wrap;\n",
              "      gap: 12px;\n",
              "    }\n",
              "\n",
              "    .colab-df-convert {\n",
              "      background-color: #E8F0FE;\n",
              "      border: none;\n",
              "      border-radius: 50%;\n",
              "      cursor: pointer;\n",
              "      display: none;\n",
              "      fill: #1967D2;\n",
              "      height: 32px;\n",
              "      padding: 0 0 0 0;\n",
              "      width: 32px;\n",
              "    }\n",
              "\n",
              "    .colab-df-convert:hover {\n",
              "      background-color: #E2EBFA;\n",
              "      box-shadow: 0px 1px 2px rgba(60, 64, 67, 0.3), 0px 1px 3px 1px rgba(60, 64, 67, 0.15);\n",
              "      fill: #174EA6;\n",
              "    }\n",
              "\n",
              "    [theme=dark] .colab-df-convert {\n",
              "      background-color: #3B4455;\n",
              "      fill: #D2E3FC;\n",
              "    }\n",
              "\n",
              "    [theme=dark] .colab-df-convert:hover {\n",
              "      background-color: #434B5C;\n",
              "      box-shadow: 0px 1px 3px 1px rgba(0, 0, 0, 0.15);\n",
              "      filter: drop-shadow(0px 1px 2px rgba(0, 0, 0, 0.3));\n",
              "      fill: #FFFFFF;\n",
              "    }\n",
              "  </style>\n",
              "\n",
              "      <script>\n",
              "        const buttonEl =\n",
              "          document.querySelector('#df-c2089f68-dcf3-4944-aa6d-ac0738b3b234 button.colab-df-convert');\n",
              "        buttonEl.style.display =\n",
              "          google.colab.kernel.accessAllowed ? 'block' : 'none';\n",
              "\n",
              "        async function convertToInteractive(key) {\n",
              "          const element = document.querySelector('#df-c2089f68-dcf3-4944-aa6d-ac0738b3b234');\n",
              "          const dataTable =\n",
              "            await google.colab.kernel.invokeFunction('convertToInteractive',\n",
              "                                                     [key], {});\n",
              "          if (!dataTable) return;\n",
              "\n",
              "          const docLinkHtml = 'Like what you see? Visit the ' +\n",
              "            '<a target=\"_blank\" href=https://colab.research.google.com/notebooks/data_table.ipynb>data table notebook</a>'\n",
              "            + ' to learn more about interactive tables.';\n",
              "          element.innerHTML = '';\n",
              "          dataTable['output_type'] = 'display_data';\n",
              "          await google.colab.output.renderOutput(dataTable, element);\n",
              "          const docLink = document.createElement('div');\n",
              "          docLink.innerHTML = docLinkHtml;\n",
              "          element.appendChild(docLink);\n",
              "        }\n",
              "      </script>\n",
              "    </div>\n",
              "  </div>\n",
              "  "
            ]
          },
          "metadata": {},
          "execution_count": 5
        }
      ],
      "source": [
        "train = pd.read_csv(\"train.csv\")\n",
        "test = pd.read_csv(\"test.csv\")\n",
        "test.head(20)\n"
      ]
    },
    {
      "cell_type": "code",
      "execution_count": null,
      "metadata": {
        "colab": {
          "base_uri": "https://localhost:8080/"
        },
        "id": "4RiIQdXuIYou",
        "outputId": "8f537fcc-7bd4-42d2-a617-f768dc040fba"
      },
      "outputs": [
        {
          "output_type": "stream",
          "name": "stdout",
          "text": [
            "Dataframe Structure\n",
            "----------------------------------\n",
            "root\n",
            " |-- Category: string (nullable = true)\n",
            " |-- Description: string (nullable = true)\n",
            "\n",
            "None\n",
            " \n",
            "Dataframe preview\n",
            "+--------------+--------------------+\n",
            "|      Category|         Description|\n",
            "+--------------+--------------------+\n",
            "|      warrants|      warrant arrest|\n",
            "|other offenses|traffic violation...|\n",
            "|other offenses|traffic violation...|\n",
            "| larceny/theft|grand theft from ...|\n",
            "| larceny/theft|grand theft from ...|\n",
            "+--------------+--------------------+\n",
            "only showing top 5 rows\n",
            "\n",
            "None\n",
            " \n",
            "----------------------------------\n",
            "Total number of rows 490105\n"
          ]
        }
      ],
      "source": [
        "#Read the data into spark datafrome\n",
        "from pyspark.sql.functions import col, lower\n",
        "df = spark.read.format('csv')\\\n",
        "          .option('header','true')\\\n",
        "          .option('inferSchema', 'true')\\\n",
        "          .option('timestamp', 'true')\\\n",
        "          .load('train.csv')\n",
        "\n",
        "data = df.select(lower(col('Category')),lower(col('Descript')))\\\n",
        "        .withColumnRenamed('lower(Category)','Category')\\\n",
        "        .withColumnRenamed('lower(Descript)', 'Description')\n",
        "data.cache()\n",
        "print('Dataframe Structure')\n",
        "print('----------------------------------')\n",
        "print(data.printSchema())\n",
        "print(' ')\n",
        "print('Dataframe preview')\n",
        "print(data.show(5))\n",
        "print(' ')\n",
        "print('----------------------------------')\n",
        "print('Total number of rows', df.count())"
      ]
    },
    {
      "cell_type": "code",
      "execution_count": null,
      "metadata": {
        "colab": {
          "base_uri": "https://localhost:8080/"
        },
        "id": "nxBy2ooCIoFf",
        "outputId": "fc1a458e-7968-4abd-eda0-e12fbc6adff7"
      },
      "outputs": [
        {
          "output_type": "stream",
          "name": "stdout",
          "text": [
            "Total number of unique value of Category: 39\n",
            " \n",
            "Top 10 Crime Category\n",
            "+--------------+----------+\n",
            "|      Category|totalValue|\n",
            "+--------------+----------+\n",
            "| larceny/theft|    105016|\n",
            "|other offenses|     72058|\n",
            "|  non-criminal|     56219|\n",
            "|       assault|     42685|\n",
            "| drug/narcotic|     27184|\n",
            "|     vandalism|     25558|\n",
            "|      warrants|     22083|\n",
            "| vehicle theft|     20012|\n",
            "|      burglary|     19567|\n",
            "|suspicious occ|     18860|\n",
            "+--------------+----------+\n",
            "only showing top 10 rows\n",
            "\n",
            " \n",
            " \n",
            "Total number of unique value of Description: 856\n",
            " \n",
            "Top 10 Crime Description\n",
            "+--------------------+----------+\n",
            "|         Description|totalValue|\n",
            "+--------------------+----------+\n",
            "|grand theft from ...|     37291|\n",
            "|drivers license, ...|     15913|\n",
            "|       lost property|     15786|\n",
            "|             battery|     13879|\n",
            "|aided case, menta...|     13719|\n",
            "|   stolen automobile|     13122|\n",
            "|petty theft of pr...|     12220|\n",
            "|      warrant arrest|     11971|\n",
            "|suspicious occurr...|     11296|\n",
            "|malicious mischie...|     10358|\n",
            "+--------------------+----------+\n",
            "only showing top 10 rows\n",
            "\n"
          ]
        }
      ],
      "source": [
        "def top_n_list(df,var, N):\n",
        "    '''\n",
        "    This function determine the top N numbers of the list\n",
        "    '''\n",
        "    print(\"Total number of unique value of\"+' '+var+''+':'+' '+str(df.select(var).distinct().count()))\n",
        "    print(' ')\n",
        "    print('Top'+' '+str(N)+' '+'Crime'+' '+var)\n",
        "    df.groupBy(var).count().withColumnRenamed('count','totalValue')\\\n",
        "    .orderBy(col('totalValue').desc()).show(N)\n",
        "\n",
        "\n",
        "top_n_list(data, 'Category',10)\n",
        "print(' ')\n",
        "print(' ')\n",
        "top_n_list(data,'Description',10)"
      ]
    },
    {
      "cell_type": "code",
      "execution_count": null,
      "metadata": {
        "colab": {
          "base_uri": "https://localhost:8080/"
        },
        "id": "DAeOZ48vIsRO",
        "outputId": "b97ae7d0-d4bc-444a-bed2-373068f7fcdb"
      },
      "outputs": [
        {
          "output_type": "execute_result",
          "data": {
            "text/plain": [
              "39"
            ]
          },
          "metadata": {},
          "execution_count": 11
        }
      ],
      "source": [
        "data.select('Category').distinct().count()"
      ]
    },
    {
      "cell_type": "code",
      "execution_count": null,
      "metadata": {
        "colab": {
          "base_uri": "https://localhost:8080/"
        },
        "id": "lZ4h5uPAI_63",
        "outputId": "f67e6ea8-35cb-498d-ddea-d38c9cff832d"
      },
      "outputs": [
        {
          "output_type": "stream",
          "name": "stdout",
          "text": [
            "Training Dataset Count: 343261\n",
            "Test Dataset Count: 146844\n"
          ]
        }
      ],
      "source": [
        "training, test = data.randomSplit([0.7,0.3], seed=60)\n",
        "#trainingSet.cache()\n",
        "print(\"Training Dataset Count:\", training.count())\n",
        "print(\"Test Dataset Count:\", test.count())"
      ]
    },
    {
      "cell_type": "code",
      "execution_count": null,
      "metadata": {
        "id": "rhXK2lf2JI_G"
      },
      "outputs": [],
      "source": [
        "from pyspark.ml.feature import RegexTokenizer, StopWordsRemover, CountVectorizer, OneHotEncoder, StringIndexer, VectorAssembler, HashingTF, IDF, Word2Vec\n",
        "from pyspark.ml import Pipeline\n",
        "from pyspark.ml.classification import LogisticRegression, NaiveBayes\n",
        "\n",
        "#----------------Define tokenizer with regextokenizer()------------------\n",
        "regex_tokenizer = RegexTokenizer(pattern='\\\\W')\\\n",
        "                  .setInputCol(\"Description\")\\\n",
        "                  .setOutputCol(\"tokens\")\n",
        "\n",
        "#----------------Define stopwords with stopwordsremover()---------------------\n",
        "extra_stopwords = ['http','amp','rt','t','c','the']\n",
        "stopwords_remover = StopWordsRemover()\\\n",
        "                    .setInputCol('tokens')\\\n",
        "                    .setOutputCol('filtered_words')\\\n",
        "                    .setStopWords(extra_stopwords)\n",
        "\n",
        "\n",
        "#----------Define bags of words using countVectorizer()---------------------------\n",
        "count_vectors = CountVectorizer(vocabSize=10000, minDF=5)\\\n",
        "               .setInputCol(\"filtered_words\")\\\n",
        "               .setOutputCol(\"features\")\n",
        "\n",
        "\n",
        "#-----------Using TF-IDF to vectorise features instead of countVectoriser-----------------\n",
        "hashingTf = HashingTF(numFeatures=10000)\\\n",
        "            .setInputCol(\"filtered_words\")\\\n",
        "            .setOutputCol(\"raw_features\")\n",
        "\n",
        "#Use minDocFreq to remove sparse terms\n",
        "idf = IDF(minDocFreq=5)\\\n",
        "        .setInputCol(\"raw_features\")\\\n",
        "        .setOutputCol(\"features\")\n",
        "\n",
        "#---------------Define bag of words using Word2Vec---------------------------\n",
        "word2Vec = Word2Vec(vectorSize=1000, minCount=0)\\\n",
        "           .setInputCol(\"filtered_words\")\\\n",
        "           .setOutputCol(\"features\")\n",
        "\n",
        "#-----------Encode the Category variable into label using StringIndexer-----------\n",
        "label_string_idx = StringIndexer()\\\n",
        "                  .setInputCol(\"Category\")\\\n",
        "                  .setOutputCol(\"label\")\n",
        "\n",
        "#-----------Define classifier structure for logistic Regression--------------\n",
        "lr = LogisticRegression(maxIter=20, regParam=0.3, elasticNetParam=0)\n",
        "\n",
        "#---------Define classifier structure for Naive Bayes----------\n",
        "nb = NaiveBayes(smoothing=1)\n",
        "\n",
        "def metrics_ev(labels, metrics):\n",
        "    '''\n",
        "    List of all performance metrics\n",
        "    '''\n",
        "    # Confusion matrix\n",
        "    print(\"---------Confusion matrix-----------------\")\n",
        "    print(metrics.confusionMatrix)\n",
        "    print(' ')\n",
        "    # Overall statistics\n",
        "    print('----------Overall statistics-----------')\n",
        "    print(\"Precision = %s\" %  metrics.precision())\n",
        "    print(\"Recall = %s\" %  metrics.recall())\n",
        "    print(\"F1 Score = %s\" % metrics.fMeasure())\n",
        "    print(' ')\n",
        "    # Statistics by class\n",
        "    print('----------Statistics by class----------')\n",
        "    for label in sorted(labels):\n",
        "       print(\"Class %s precision = %s\" % (label, metrics.precision(label)))\n",
        "       print(\"Class %s recall = %s\" % (label, metrics.recall(label)))\n",
        "       print(\"Class %s F1 Measure = %s\" % (label, metrics.fMeasure(label, beta=1.0)))\n",
        "    print(' ')\n",
        "    # Weighted stats\n",
        "    print('----------Weighted stats----------------')\n",
        "    print(\"Weighted recall = %s\" % metrics.weightedRecall)\n",
        "    print(\"Weighted precision = %s\" % metrics.weightedPrecision)\n",
        "    print(\"Weighted F(1) Score = %s\" % metrics.weightedFMeasure())\n",
        "    print(\"Weighted F(0.5) Score = %s\" % metrics.weightedFMeasure(beta=0.5))\n",
        "    print(\"Weighted false positive rate = %s\" % metrics.weightedFalsePositiveRate)\n"
      ]
    },
    {
      "cell_type": "code",
      "execution_count": null,
      "metadata": {
        "id": "WwXoW5EgJTsV"
      },
      "outputs": [],
      "source": [
        "pipeline_cv_lr = Pipeline().setStages([regex_tokenizer,stopwords_remover,count_vectors,label_string_idx, lr])\n",
        "model_cv_lr = pipeline_cv_lr.fit(training)\n",
        "predictions_cv_lr = model_cv_lr.transform(test)"
      ]
    },
    {
      "cell_type": "code",
      "execution_count": null,
      "metadata": {
        "colab": {
          "base_uri": "https://localhost:8080/"
        },
        "id": "OI10FSamKbKG",
        "outputId": "ec4c4766-606a-465e-ea5b-14aa49a23b5c"
      },
      "outputs": [
        {
          "output_type": "stream",
          "name": "stdout",
          "text": [
            "-----------------------------Check Top 5 predictions----------------------------------\n",
            " \n",
            "+------------------------------+-------------+------------------------------+-----+----------+\n",
            "|                   Description|     Category|                   probability|label|prediction|\n",
            "+------------------------------+-------------+------------------------------+-----+----------+\n",
            "|theft, bicycle, <$50, no se...|larceny/theft|[0.8779111675126126,0.02068...|  0.0|       0.0|\n",
            "|theft, bicycle, <$50, no se...|larceny/theft|[0.8779111675126126,0.02068...|  0.0|       0.0|\n",
            "|theft, bicycle, <$50, no se...|larceny/theft|[0.8779111675126126,0.02068...|  0.0|       0.0|\n",
            "|theft, bicycle, <$50, no se...|larceny/theft|[0.8779111675126126,0.02068...|  0.0|       0.0|\n",
            "|theft, bicycle, <$50, no se...|larceny/theft|[0.8779111675126126,0.02068...|  0.0|       0.0|\n",
            "+------------------------------+-------------+------------------------------+-----+----------+\n",
            "only showing top 5 rows\n",
            "\n"
          ]
        }
      ],
      "source": [
        "print('-----------------------------Check Top 5 predictions----------------------------------')\n",
        "print(' ')\n",
        "predictions_cv_lr.select('Description','Category',\"probability\",\"label\",\"prediction\")\\\n",
        "                                        .orderBy(\"probability\", ascending=False)\\\n",
        "                                        .show(n=5, truncate=30)"
      ]
    },
    {
      "cell_type": "code",
      "execution_count": null,
      "metadata": {
        "colab": {
          "base_uri": "https://localhost:8080/"
        },
        "id": "4V2col5-KeYm",
        "outputId": "d5e864f6-015e-4e4c-97be-2b70eee14e00"
      },
      "outputs": [
        {
          "output_type": "stream",
          "name": "stdout",
          "text": [
            " \n",
            "------------------------------Accuracy----------------------------------\n",
            " \n",
            "                       accuracy:0.9768913781650685:\n"
          ]
        }
      ],
      "source": [
        "from pyspark.ml.evaluation import MulticlassClassificationEvaluator\n",
        "evaluator_cv_lr = MulticlassClassificationEvaluator().setPredictionCol(\"prediction\").evaluate(predictions_cv_lr)\n",
        "print(' ')\n",
        "print('------------------------------Accuracy----------------------------------')\n",
        "print(' ')\n",
        "print('                       accuracy:{}:'.format(evaluator_cv_lr))\n"
      ]
    },
    {
      "cell_type": "code",
      "execution_count": null,
      "metadata": {
        "id": "rV99rRX6KkRG"
      },
      "outputs": [],
      "source": [
        "pipeline_cv_nb = Pipeline().setStages([regex_tokenizer,stopwords_remover,count_vectors,label_string_idx, nb])\n",
        "model_cv_nb = pipeline_cv_nb.fit(training)\n",
        "predictions_cv_nb = model_cv_nb.transform(test)"
      ]
    },
    {
      "cell_type": "code",
      "execution_count": null,
      "metadata": {
        "colab": {
          "base_uri": "https://localhost:8080/"
        },
        "id": "tK1DxRv8KnqG",
        "outputId": "6c9fdbac-5811-4c68-f320-249fb5d845bb"
      },
      "outputs": [
        {
          "output_type": "stream",
          "name": "stdout",
          "text": [
            " \n",
            "--------------------------Accuracy-----------------------------\n",
            " \n",
            "                      accuracy:0.9945049689983742:\n"
          ]
        }
      ],
      "source": [
        "evaluator_cv_nb = MulticlassClassificationEvaluator().setPredictionCol(\"prediction\").evaluate(predictions_cv_nb)\n",
        "print(' ')\n",
        "print('--------------------------Accuracy-----------------------------')\n",
        "print(' ')\n",
        "print('                      accuracy:{}:'.format(evaluator_cv_nb))"
      ]
    },
    {
      "cell_type": "code",
      "execution_count": null,
      "metadata": {
        "id": "oLXhS5b6Kt1Q"
      },
      "outputs": [],
      "source": [
        "pipeline_idf_lr = Pipeline().setStages([regex_tokenizer,stopwords_remover,hashingTf, idf, label_string_idx, lr])\n",
        "model_idf_lr = pipeline_idf_lr.fit(training)\n",
        "predictions_idf_lr = model_idf_lr.transform(test)"
      ]
    },
    {
      "cell_type": "code",
      "execution_count": null,
      "metadata": {
        "colab": {
          "base_uri": "https://localhost:8080/"
        },
        "id": "AVFJ89wuKwMw",
        "outputId": "7300803c-2f46-498e-ed13-829b54a1639f"
      },
      "outputs": [
        {
          "output_type": "stream",
          "name": "stdout",
          "text": [
            "-----------------------------Check Top 5 predictions----------------------------------\n",
            " \n",
            "+------------------------------+-------------+------------------------------+-----+----------+\n",
            "|                   Description|     Category|                   probability|label|prediction|\n",
            "+------------------------------+-------------+------------------------------+-----+----------+\n",
            "|theft, bicycle, <$50, no se...|larceny/theft|[0.8856774423513085,0.01922...|  0.0|       0.0|\n",
            "|theft, bicycle, <$50, no se...|larceny/theft|[0.8856774423513085,0.01922...|  0.0|       0.0|\n",
            "|theft, bicycle, <$50, no se...|larceny/theft|[0.8856774423513085,0.01922...|  0.0|       0.0|\n",
            "|theft, bicycle, <$50, no se...|larceny/theft|[0.8856774423513085,0.01922...|  0.0|       0.0|\n",
            "|theft, bicycle, <$50, no se...|larceny/theft|[0.8856774423513085,0.01922...|  0.0|       0.0|\n",
            "+------------------------------+-------------+------------------------------+-----+----------+\n",
            "only showing top 5 rows\n",
            "\n"
          ]
        }
      ],
      "source": [
        "print('-----------------------------Check Top 5 predictions----------------------------------')\n",
        "print(' ')\n",
        "predictions_idf_lr.select('Description','Category',\"probability\",\"label\",\"prediction\")\\\n",
        "                                        .orderBy(\"probability\", ascending=False)\\\n",
        "                                        .show(n=5, truncate=30)"
      ]
    },
    {
      "cell_type": "code",
      "execution_count": null,
      "metadata": {
        "colab": {
          "base_uri": "https://localhost:8080/"
        },
        "id": "2sFl0EkoKzJ2",
        "outputId": "3a94aaf7-375a-4ad7-c7ca-127842cc6454"
      },
      "outputs": [
        {
          "output_type": "stream",
          "name": "stdout",
          "text": [
            " \n",
            "-------------------------------Accuracy---------------------------------\n",
            " \n",
            "                        accuracy:0.9767354362517212:\n"
          ]
        }
      ],
      "source": [
        "evaluator_idf_lr = MulticlassClassificationEvaluator().setPredictionCol(\"prediction\").evaluate(predictions_idf_lr)\n",
        "print(' ')\n",
        "print('-------------------------------Accuracy---------------------------------')\n",
        "print(' ')\n",
        "print('                        accuracy:{}:'.format(evaluator_idf_lr))"
      ]
    },
    {
      "cell_type": "code",
      "execution_count": null,
      "metadata": {
        "colab": {
          "base_uri": "https://localhost:8080/"
        },
        "id": "WANb43CMK0QN",
        "outputId": "fcb66a81-6728-49af-ca31-3f44e372d08b"
      },
      "outputs": [
        {
          "output_type": "stream",
          "name": "stdout",
          "text": [
            " \n",
            "-----------------------------Accuracy-----------------------------\n",
            " \n",
            "                          accuracy:0.9960801265738546:\n"
          ]
        }
      ],
      "source": [
        "pipeline_idf_nb = Pipeline().setStages([regex_tokenizer,stopwords_remover,hashingTf, idf, label_string_idx, nb])\n",
        "model_idf_nb = pipeline_idf_nb.fit(training)\n",
        "predictions_idf_nb = model_idf_nb.transform(test)\n",
        "evaluator_idf_nb = MulticlassClassificationEvaluator().setPredictionCol(\"prediction\").evaluate(predictions_idf_nb)\n",
        "print(' ')\n",
        "print('-----------------------------Accuracy-----------------------------')\n",
        "print(' ')\n",
        "print('                          accuracy:{}:'.format(evaluator_idf_nb))\n"
      ]
    },
    {
      "cell_type": "code",
      "execution_count": null,
      "metadata": {
        "colab": {
          "base_uri": "https://localhost:8080/"
        },
        "id": "pyR5kzODM70O",
        "outputId": "f24d090a-0331-4186-afac-92ee2a94ec1f"
      },
      "outputs": [
        {
          "output_type": "stream",
          "name": "stdout",
          "text": [
            "--------------------------Accuracy------------\n",
            " \n",
            "                  accuracy:0.9049747489565795:\n"
          ]
        }
      ],
      "source": [
        "pipeline_wv_lr = Pipeline().setStages([regex_tokenizer,stopwords_remover, word2Vec, label_string_idx, lr])\n",
        "model_wv_lr = pipeline_wv_lr.fit(training)\n",
        "predictions_wv_lr = model_wv_lr.transform(test)\n",
        "evaluator_wv_lr = MulticlassClassificationEvaluator().setPredictionCol(\"prediction\").evaluate(predictions_wv_lr)\n",
        "print('--------------------------Accuracy------------')\n",
        "print(' ')\n",
        "print('                  accuracy:{}:'.format(evaluator_wv_lr))"
      ]
    },
    {
      "cell_type": "code",
      "source": [
        "import pickle\n",
        "pickle.dump(evaluator_cv_lr,open('model','wb'))"
      ],
      "metadata": {
        "colab": {
          "base_uri": "https://localhost:8080/",
          "height": 182
        },
        "id": "ZKcBIV4COs85",
        "outputId": "7e95d2d8-1148-4277-8fe4-f45d9995ab93"
      },
      "execution_count": null,
      "outputs": [
        {
          "output_type": "error",
          "ename": "NameError",
          "evalue": "ignored",
          "traceback": [
            "\u001b[0;31m---------------------------------------------------------------------------\u001b[0m",
            "\u001b[0;31mNameError\u001b[0m                                 Traceback (most recent call last)",
            "\u001b[0;32m<ipython-input-2-442fd1089fee>\u001b[0m in \u001b[0;36m<cell line: 2>\u001b[0;34m()\u001b[0m\n\u001b[1;32m      1\u001b[0m \u001b[0;32mimport\u001b[0m \u001b[0mpickle\u001b[0m\u001b[0;34m\u001b[0m\u001b[0;34m\u001b[0m\u001b[0m\n\u001b[0;32m----> 2\u001b[0;31m \u001b[0mpickle\u001b[0m\u001b[0;34m.\u001b[0m\u001b[0mdump\u001b[0m\u001b[0;34m(\u001b[0m\u001b[0mevaluator_cv_lr\u001b[0m\u001b[0;34m,\u001b[0m\u001b[0mopen\u001b[0m\u001b[0;34m(\u001b[0m\u001b[0;34m'model'\u001b[0m\u001b[0;34m,\u001b[0m\u001b[0;34m'wb'\u001b[0m\u001b[0;34m)\u001b[0m\u001b[0;34m)\u001b[0m\u001b[0;34m\u001b[0m\u001b[0;34m\u001b[0m\u001b[0m\n\u001b[0m",
            "\u001b[0;31mNameError\u001b[0m: name 'evaluator_cv_lr' is not defined"
          ]
        }
      ]
    }
  ],
  "metadata": {
    "colab": {
      "provenance": [],
      "authorship_tag": "ABX9TyNbXaVGAse5Ppohfq1pOy7R",
      "include_colab_link": true
    },
    "kernelspec": {
      "display_name": "Python 3",
      "name": "python3"
    },
    "language_info": {
      "name": "python"
    }
  },
  "nbformat": 4,
  "nbformat_minor": 0
}